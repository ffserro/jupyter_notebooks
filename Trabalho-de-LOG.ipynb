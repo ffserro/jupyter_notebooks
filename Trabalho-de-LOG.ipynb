{
  "cells": [
    {
      "cell_type": "markdown",
      "metadata": {
        "id": "mfBI9bHLwR2k"
      },
      "source": [
        "## Planilha de custos por fábrica/cliente:\n",
        "\n",
        "| Fábrica/Cliente| Recife (1)| Salvador (2) | Manaus (3) | Capacidade |\n",
        "| :--: | :----: | :---: | :----: | :----: |\n",
        "| Rio de Janeiro (1) | 25 | 20 | 30 | **2.000** |\n",
        "| São Paulo (2) | 30 | 25 | 25 | **3.000** |\n",
        "| Belo Horizonte (3)| 20 | 15 | 23 | **1.500** | \n",
        "| **Demanda** | **2.000** | **2.000** | **1.000** | |"
      ]
    },
    {
      "cell_type": "markdown",
      "metadata": {
        "id": "mtJQJ2MrwR2p"
      },
      "source": [
        "## Nosso Problema:\n",
        "\n",
        "$\\text{Minimizar} \\quad Z = \\sum_{i=1}^{3} \\sum_{j=1}^{3} c_{ij} x_{ij}$\n",
        "\n",
        "Analogamente:\n",
        "\n",
        "$\\text{F.O. :} \\quad \\text{Min} \\quad Z = 25x_{11} + 20x_{12} + 30x_{13} + 30x_{21} + 25x_{22} + 25x_{23} + 20x_{31} + 15x_{32} + 23x_{33}$\n",
        "\n",
        "$\\\\\\\\$\n",
        "\n",
        "$$Restrições = \n",
        "  \\begin{cases}\n",
        "    x_{11} + x_{12} + x_{13} \\leq 2000\\\\\n",
        "    x_{21} + x_{22} + x_{23} \\leq 3000\\\\\n",
        "    x_{31} + x_{32} + x_{33} \\leq 1500\\\\\n",
        "    x_{11} + x_{21} + x_{31} = 2000\\\\\n",
        "    x_{12} + x_{22} + x_{32} = 2000\\\\\n",
        "    x_{31} + x_{32} + x_{33} = 1000\\\\\n",
        "    x_{ij} \\geq 0 \\quad \\forall x_{ij} \n",
        "  \\end{cases}\n",
        "$$"
      ]
    },
    {
      "cell_type": "markdown",
      "source": [
        "# Fazendo o passo a passo com o Método \"Big M\":\n"
      ],
      "metadata": {
        "id": "TD61aVCBl7lj"
      }
    },
    {
      "cell_type": "markdown",
      "source": [
        "O método Big M é uma aproximação algébrica para a solução de problemas de otimização que se utiliza do algoritmo Simplex. Esse método se diferencia por adicionar grandes constantes negativas às restrições, que não deveriam existir em uma solução ótima.\n",
        "\n",
        "O passo a passo para resolução utilizando esse algoritmo é:\n",
        "\n",
        "1.   Multiplicar as inequações das restrições para garantir que a última coluna contenha apenas valores positivos.\n",
        "2.   Se o problema for para minimização, converter para maximização, multiplicando a função objetivo por (-1).\n",
        "3.   Para toda restrição do tipo \"maior ou igual\", introduzir a variável de folga $S_i$ e a variável artificial $a_i$.\n",
        "4.   Para toda restrição que seja uma igualdade, introduzir a variável artificial.\n",
        "5.   Para toda restrição do tipo \"menor ou igual\", introduzir a variável de folga $S_i$ de forma que todas as restrições se tornem igualdades.\n",
        "6.   Escolher um número positivo suficientemente grande e introduzir um termo na função objetivo na forma $-M$ que multiplica as variáveis artificiais.\n",
        "7.   Resolver o problema utilizando o método Simplex.\n"
      ],
      "metadata": {
        "id": "whtALLjPmFMN"
      }
    },
    {
      "cell_type": "markdown",
      "source": [
        "### Passo 1:\n",
        "Não existem valores negativos do lado direito das restrições.\n",
        "\n",
        "### Passo 2:\n",
        "Converter a função objetivo para um problema de maximização:\n",
        "\n",
        "$(\\text{Min} \\quad Z = 25x_{11} + 20x_{12} + 30x_{13} + 30x_{21} + 25x_{22} + 25x_{23} + 20x_{31} + 15x_{32} + 23x_{33}) * (-1) \\to \\\\ $\n",
        "\n",
        "\n",
        "\n",
        "$\\to \\text{Max} \\quad Z' = - 25x_{11} - 20x_{12} - 30x_{13} - 30x_{21} - 25x_{22} - 25x_{23} - 20x_{31} - 15x_{32} - 23x_{33}$\n",
        "\n",
        "### Passo 3:\n",
        "Não existem restrições do tipo \"maior ou igual\".\n",
        "\n",
        "### Passo 4:\n",
        "Introduzir as variáveis artificiais para as igualdades.\n",
        "\n",
        "$$\n",
        "  \\begin{cases}\n",
        "    x_{11} + x_{21} + x_{31} = 2000\\\\\n",
        "    x_{12} + x_{22} + x_{32} = 2000\\\\\n",
        "    x_{31} + x_{32} + x_{33} = 1000\n",
        "  \\end{cases} \\\\\n",
        "$$\n",
        "\n",
        "$$\\to\n",
        "\\begin{cases}\n",
        "    x_{11} + x_{21} + x_{31} + a_1 = 2000\\\\\n",
        "    x_{12} + x_{22} + x_{32} + a_2 = 2000\\\\\n",
        "    x_{31} + x_{32} + x_{33} + a_3 = 1000\n",
        "\\end{cases}\n",
        "$$\n",
        "\n",
        "### Passo 5:\n",
        "Adicionaremos as variáveis de folga nas restrições do tipo \"menor ou igual\".\n",
        "$$\n",
        "\\begin{cases}\n",
        "    x_{11} + x_{12} + x_{13} \\leq 2000\\\\\n",
        "    x_{21} + x_{22} + x_{23} \\leq 3000\\\\\n",
        "    x_{31} + x_{32} + x_{33} \\leq 1500\\\\\n",
        "  \\end{cases}\\\\\n",
        "$$\n",
        "\n",
        "$$\\to\n",
        "\\begin{cases}\n",
        "    x_{11} + x_{12} + x_{13} + S_1 = 2000\\\\\n",
        "    x_{21} + x_{22} + x_{23} + S_2 = 3000\\\\\n",
        "    x_{31} + x_{32} + x_{33} + S_3 = 1500\\\\\n",
        "  \\end{cases}\n",
        "$$\n",
        "### Passo 6:\n",
        "Adotaremos uma constante genérica $M$ para denotar um número positivo suficientemente grande para ser utilizado como peso em nossas variáveis artificiais. Adicionaremos a constante multiplicada pelas variáveis artificiais à nossa função objetivo. (para transformar a função objetivo em uma equação, chamarei o objetivo de **$\\rho$**).\n",
        "\n",
        "$\\to \\quad \\text{Max} \\quad Z'  = \\rho = - 25x_{11} - 20x_{12} - 30x_{13} - 30x_{21} - 25x_{22} - 25x_{23} - 20x_{31} - 15x_{32} - 23x_{33} - Ma_1 - Ma_2 - Ma_3$\n",
        "\n",
        "### Passo 7:\n",
        "Resolução pelo método Simplex. 🙂\n",
        "\n"
      ],
      "metadata": {
        "id": "-ILImNQ7p565"
      }
    },
    {
      "cell_type": "markdown",
      "source": [
        "Nosso sistema de equações, agora bem mais organizado, pode ser escrito da seguinte forma:\n",
        "\n",
        "$$\n",
        "\\begin{cases}\n",
        "    x_{11} + x_{12} + x_{13} + S_1 = 2000\\\\\n",
        "    x_{21} + x_{22} + x_{23} + S_2 = 3000\\\\\n",
        "    x_{31} + x_{32} + x_{33} + S_3 = 1500\\\\\n",
        "    x_{11} + x_{21} + x_{31} + a_1 = 2000\\\\\n",
        "    x_{12} + x_{22} + x_{32} + a_2 = 2000\\\\\n",
        "    x_{31} + x_{32} + x_{33} + a_3 = 1000\\\\\n",
        "    \\rho  + 25x_{11} + 20x_{12} + 30x_{13} + 30x_{21} + 25x_{22} + 25x_{23} + 20x_{31} + 15x_{32} + 23x_{33} + Ma_1 + Ma_2 + Ma_3 = 0\n",
        "\\end{cases}\n",
        "$$\n",
        "\n",
        "Ou pela representação matricial do sistema:\n",
        "\n",
        "$$\n",
        "\\begin{bmatrix}\n",
        "  1&1&1&0&0&0&0&0&0&1&0&0&0&0&0&0\\\\\n",
        "  0&0&0&1&1&1&0&0&0&0&0&1&0&0&0&0\\\\\n",
        "  0&0&0&0&0&0&1&1&1&0&0&0&0&1&0&0\\\\\n",
        "  1&0&0&1&0&0&1&0&0&0&1&0&0&0&0&0\\\\\n",
        "  0&1&0&0&1&0&0&1&0&0&0&0&1&0&0&0\\\\\n",
        "  0&0&1&0&0&1&0&0&1&0&0&0&0&0&1&0\\\\\\hline\n",
        "  25&20&30&30&25&25&20&15&23&0&M&0&M&0&M&1\n",
        "\\end{bmatrix} * \\begin{bmatrix}\n",
        "  x_{11}\\\\x_{12}\\\\x_{13}\\\\x_{21}\\\\x_{22}\\\\x_{23}\\\\x_{31}\\\\x_{32}\\\\x_{33}\\\\S_1\\\\a_1\\\\S_2\\\\a_2\\\\S_3\\\\a_3\\\\\\rho\n",
        "\\end{bmatrix} = \\begin{bmatrix}\n",
        "  2000\\\\3000\\\\1500\\\\2000\\\\2000\\\\1000\\\\\\hline0\n",
        "\\end{bmatrix}\n",
        "$$\n"
      ],
      "metadata": {
        "id": "_tFNBWVIvgG0"
      }
    },
    {
      "cell_type": "markdown",
      "source": [
        "#### Agora nossa próxima preocupação será eliminar os $M$ da função objetivo.\n",
        "\n",
        "Para auxiliar os cálculos, eu chamarei as linha de $L_i$, sendo a primeira linha $L_1$, a segunda $L_2$ e assim por diante. De forma análoga, chamarei as colunas por seus índices $C_i$.\n",
        "\n",
        "Para eliminar os $M$ da função objetivo, usaremos as seguintes fórmulas sequencialmente:\n",
        "$$-M*L_4 + L_7\\to L_7 \\\\ -M*L_5 + L_7 \\to L_7 \\\\ -M*L_6 + L_7 \\to L_7$$\n",
        "\n",
        "Resultando em:\n",
        "$$\n",
        "\\begin{array} (S_1 \\\\S_2\\\\S_3\\\\a_1\\\\a_2\\\\a_3\\\\\\hline\\rho\\end{array}\n",
        "\\begin{bmatrix}\n",
        "  1&1&1&0&0&0&0&0&0&1&0&0&0&0&0&0\\\\\n",
        "  0&0&0&1&1&1&0&0&0&0&0&1&0&0&0&0\\\\\n",
        "  0&0&0&0&0&0&1&1&1&0&0&0&0&1&0&0\\\\\n",
        "  1&0&0&1&0&0&1&0&0&0&1&0&0&0&0&0\\\\\n",
        "  0&1&0&0&1&0&0&1&0&0&0&0&1&0&0&0\\\\\n",
        "  0&0&1&0&0&1&0&0&1&0&0&0&0&0&1&0\\\\\\hline\n",
        "  25-M&20-M&30-M&30-M&25-M&25-M&20-M&15-M&23-M&0&0&0&0&0&0&1\n",
        "\\end{bmatrix}\\begin{bmatrix}\n",
        "  2000\\\\3000\\\\1500\\\\2000\\\\2000\\\\1000\\\\\\hline-5000M\n",
        "\\end{bmatrix}\\\\\n",
        "$$\n",
        "\n",
        "Agora o Método Simplex começa, quando transformamos a nossa matriz para que as variáveis se tornem básicas. Vamos pivotear a matriz começando pelos elementos mais negativos da função objetivo. Seguiremos os seguintes passos:\n",
        "$$ \\\\ (-1) * L_3 + L_5 \\to L_5 \\\\ (M-15) * L_3 + L_7 \\to L_7 $$\n",
        "\n",
        "$$\n",
        "\\begin{array} (S_1 \\\\S_2\\\\x_{32}\\\\a_1\\\\a_2\\\\a_3\\\\\\hline\\rho\\end{array}\n",
        "\\begin{bmatrix}\n",
        "  1&1&1&0&0&0&0&0&0&1&0&0&0&0&0&0\\\\\n",
        "  0&0&0&1&1&1&0&0&0&0&0&1&0&0&0&0\\\\\n",
        "  0&0&0&0&0&0&1&1&1&0&0&0&0&1&0&0\\\\\n",
        "  1&0&0&1&0&0&1&0&0&0&1&0&0&0&0&0\\\\\n",
        "  0&1&0&0&1&0&-1&0&-1&0&0&0&1&-1&0&0\\\\\n",
        "  0&0&1&0&0&1&0&0&1&0&0&0&0&0&1&0\\\\\\hline\n",
        "  25-M&20-M&30-M&30-M&25-M&25-M&5&0&8&0&0&0&0&M-15&0&1\n",
        "\\end{bmatrix}\\begin{bmatrix}\n",
        "  2000\\\\3000\\\\1500\\\\2000\\\\500\\\\1000\\\\\\hline-3500M+22500\n",
        "\\end{bmatrix}\\\\\n",
        "$$\n",
        "\n",
        "$$ (-1) * L_5 + L_1 \\to L_1 \\\\ (M-20) * L_5 + L_7 \\to L_7 $$\n",
        "\n",
        "$$\n",
        "\\begin{array} (S_1 \\\\S_2\\\\x_{32}\\\\a_1\\\\x_{12}\\\\a_3\\\\\\hline\\rho\\end{array}\n",
        "\\begin{bmatrix}\n",
        "  1&0&1&0&-1&0&1&0&1&1&0&0&-1&1&0&0\\\\\n",
        "  0&0&0&1&1&1&0&0&0&0&0&1&0&0&0&0\\\\\n",
        "  0&0&0&0&0&0&1&1&1&0&0&0&0&1&0&0\\\\\n",
        "  1&0&0&1&0&0&1&0&0&0&1&0&0&0&0&0\\\\\n",
        "  0&1&0&0&1&0&-1&0&-1&0&0&0&1&-1&0&0\\\\\n",
        "  0&0&1&0&0&1&0&0&1&0&0&0&0&0&1&0\\\\\\hline\n",
        "  25-M&0&30-M&30-M&5&25-M&25-M&0&28-M&0&0&0&M-20&5&0&1\n",
        "\\end{bmatrix}\\begin{bmatrix}\n",
        "  1500\\\\3000\\\\1500\\\\2000\\\\500\\\\1000\\\\\\hline-3000M+12500\n",
        "\\end{bmatrix}\\\\\n",
        "$$\n",
        "\n",
        "$$ (-1) * L_6 + L_2 \\to L_2 \\\\ (M-25) * L_6 + L_7 \\to L_7 $$\n",
        "\n",
        "$$\n",
        "\\begin{array} (S_1 \\\\S_2\\\\x_{32}\\\\a_1\\\\x_{12}\\\\x_{23}\\\\\\hline\\rho\\end{array}\n",
        "\\begin{bmatrix}\n",
        "  1&0&1&0&-1&0&1&0&1&1&0&0&-1&1&0&0\\\\\n",
        "  0&0&-1&1&1&0&0&0&-1&0&0&1&0&0&-1&0\\\\\n",
        "  0&0&0&0&0&0&1&1&1&0&0&0&0&1&0&0\\\\\n",
        "  1&0&0&1&0&0&1&0&0&0&1&0&0&0&0&0\\\\\n",
        "  0&1&0&0&1&0&-1&0&-1&0&0&0&1&-1&0&0\\\\\n",
        "  0&0&1&0&0&1&0&0&1&0&0&0&0&0&1&0\\\\\\hline\n",
        "  25-M&0&5&30-M&5&0&25-M&0&3&0&0&0&M-20&5&M-25&1\n",
        "\\end{bmatrix}\\begin{bmatrix}\n",
        "  1500\\\\3000\\\\1500\\\\2000\\\\500\\\\1000\\\\\\hline-2000M-12500\n",
        "\\end{bmatrix}\\\\\n",
        "$$\n",
        "\n",
        "$$ (-1) * L_1 + L_4 \\to L_4 \\\\ (M-25) * L_1 + L_7 \\to L_7 $$\n",
        "\n",
        "$$\n",
        "\\begin{array} (x_{11} \\\\S_2\\\\x_{32}\\\\a_1\\\\x_{12}\\\\x_{23}\\\\\\hline\\rho\\end{array}\n",
        "\\begin{bmatrix}\n",
        "  1&0&1&0&-1&0&1&0&1&1&0&0&-1&1&0&0\\\\\n",
        "  0&0&-1&1&1&0&0&0&-1&0&0&1&0&0&-1&0\\\\\n",
        "  0&0&0&0&0&0&1&1&1&0&0&0&0&1&0&0\\\\\n",
        "  0&0&-1&1&1&0&0&0&-1&-1&1&0&1&-1&0&0\\\\\n",
        "  0&1&0&0&1&0&-1&0&-1&0&0&0&1&-1&0&0\\\\\n",
        "  0&0&1&0&0&1&0&0&1&0&0&0&0&0&1&0\\\\\\hline\n",
        "  0&0&M-20&30-M&30-M&0&0&0&M-22&M-25&0&0&5&M-20&M-25&1\n",
        "\\end{bmatrix}\\begin{bmatrix}\n",
        "  1500\\\\3000\\\\1500\\\\500\\\\500\\\\1000\\\\\\hline-500M-50000\n",
        "\\end{bmatrix}\\\\\n",
        "$$\n",
        "\n",
        "$$ (-1) * L_4 + L_2 \\to L_2 \\\\ (M-30) * L_4 + L_7 \\to L_7 $$\n",
        "\n",
        "$$\n",
        "\\begin{array} (x_{11} \\\\S_2\\\\x_{32}\\\\x_{21}\\\\x_{12}\\\\x_{23}\\\\\\hline\\rho\\end{array}\n",
        "\\begin{bmatrix}\n",
        "  1&0&1&0&-1&0&1&0&1&1&0&0&-1&1&0&0\\\\\n",
        "  0&0&0 &0&0&0 &0&0&0 &1&-1&1 &-1&1&-1&0\\\\\n",
        "  0&0&0&0&0&0&1&1&1&0&0&0&0&1&0&0\\\\\n",
        "  0&0&-1&1&1&0&0&0&-1&-1&1&0&1&-1&0&0\\\\\n",
        "  0&1&0&0&1&0&-1&0&-1&0&0&0&1&-1&0&0\\\\\n",
        "  0&0&1&0&0&1&0&0&1&0&0&0&0&0&1&0\\\\\\hline\n",
        "  0&0&10 &0&0&0 &0&0&8 &5&M-30&0 &M-25&10&M-25 &1\n",
        "\\end{bmatrix}\\begin{bmatrix}\n",
        "  1500\\\\1500\\\\1500\\\\500\\\\500\\\\1000\\\\\\hline-65000\n",
        "\\end{bmatrix}\\\\\n",
        "$$"
      ],
      "metadata": {
        "id": "KbzJ2U5z4BXm"
      }
    },
    {
      "cell_type": "markdown",
      "source": [
        "Finalmente! Não existe mais $M$ negativo na função objetivo, então chegamos ao fim das iterações.\n",
        "\n",
        "Obtivemos o seguinte resultado:\n",
        "\n",
        "$$\n",
        "\\begin{cases}\n",
        "    x_{11} = 1500\\\\\n",
        "    x_{12} = 500\\\\\n",
        "    x_{21} = 500\\\\\n",
        "    x_{23} = 1000\\\\\n",
        "    x_{32} = 1500\\\\\n",
        "    S_2 = 1500\n",
        "\\end{cases}\n",
        "$$\n",
        "\n",
        "Significa dizer que a distribuição ótima que nos proporciona o menor custo é enviar 1500 unidades do Rio de Janeiro para Recife, 500 unidades do Rio de Janeiro para Salvador, 500 unidades de São Paulo para Recife, 1000 unidades de São Paulo para Manaus e 1500 unidades de Belo Horizonte para Salvador. Além disso a variável de folga nos diz que São Paulo terá uma capacidade ociosa de 1500 unidades que não serão distribuídas por falta de demanda."
      ],
      "metadata": {
        "id": "Pzzqyq6GTr01"
      }
    },
    {
      "cell_type": "markdown",
      "source": [
        "# Usando a biblioteca GUROBI\n"
      ],
      "metadata": {
        "id": "U7iQyqJEzRGz"
      }
    },
    {
      "cell_type": "markdown",
      "source": [
        "Agora eu vou tentar mostrar como o uso de programação e bibliotecas específicas pode ajudar muito nesse tipo de situação.\n",
        "\n",
        "Este é o mesmo problema de otimização resolvido por um modelo do Gurobi."
      ],
      "metadata": {
        "id": "5L-4LG_QDXKQ"
      }
    },
    {
      "cell_type": "code",
      "source": [
        "%pip install gurobipy"
      ],
      "metadata": {
        "id": "V_GfvC8Y1xie"
      },
      "execution_count": null,
      "outputs": []
    },
    {
      "cell_type": "code",
      "source": [
        "import gurobipy as gp\n",
        "from gurobipy import GRB\n",
        "\n",
        "m1 = gp.Model(\"Distribuição de Pranchas\")\n",
        "\n",
        "x1 = m1.addVar(vtype = GRB.CONTINUOUS, name = 'x1')\n",
        "x2 = m1.addVar(vtype = GRB.CONTINUOUS, name = 'x2')\n",
        "x3 = m1.addVar(vtype = GRB.CONTINUOUS, name = 'x3')\n",
        "x4 = m1.addVar(vtype = GRB.CONTINUOUS, name = 'x4')\n",
        "x5 = m1.addVar(vtype = GRB.CONTINUOUS, name = 'x5')\n",
        "x6 = m1.addVar(vtype = GRB.CONTINUOUS, name = 'x6')\n",
        "x7 = m1.addVar(vtype = GRB.CONTINUOUS, name = 'x7')\n",
        "x8 = m1.addVar(vtype = GRB.CONTINUOUS, name = 'x8')\n",
        "x9 = m1.addVar(vtype = GRB.CONTINUOUS, name = 'x9')\n",
        "\n",
        "m1.setObjective(25 * x1 + 20 * x2 + 30 * x3 + 30 * x4 + 25 * x5 + 25 * x6 + 20 * x7 + 15 * x8+ 23 * x9, GRB.MINIMIZE)\n",
        "\n",
        "m1.addConstr(x1 + x2 + x3 <= 2000, 'c0')\n",
        "m1.addConstr(x4 + x5 + x6 <= 3000, 'c1')\n",
        "m1.addConstr(x7 + x8 + x9 <= 1500, 'c2')\n",
        "m1.addConstr(x1 + x4 + x7 == 2000, 'c3')\n",
        "m1.addConstr(x2 + x5 + x8 == 2000, 'c4')\n",
        "m1.addConstr(x3 + x6 + x9 == 1000, 'c6')\n",
        "m1.optimize()\n",
        "\n",
        "for v in m1.getVars():\n",
        "  print('%s %g' % (v.varName, v.x))\n",
        "        \n",
        "print('Obj: %g' % m1.objVal)"
      ],
      "metadata": {
        "colab": {
          "base_uri": "https://localhost:8080/",
          "height": 503
        },
        "id": "rHNwphbhzcfA",
        "outputId": "8ef66a9e-367f-40fc-b119-ab461c5343aa"
      },
      "execution_count": null,
      "outputs": [
        {
          "output_type": "stream",
          "name": "stdout",
          "text": [
            "Gurobi Optimizer version 9.5.1 build v9.5.1rc2 (linux64)\n",
            "Thread count: 1 physical cores, 2 logical processors, using up to 2 threads\n",
            "Optimize a model with 6 rows, 9 columns and 18 nonzeros\n",
            "Model fingerprint: 0x8169813e\n",
            "Coefficient statistics:\n",
            "  Matrix range     [1e+00, 1e+00]\n",
            "  Objective range  [2e+01, 3e+01]\n",
            "  Bounds range     [0e+00, 0e+00]\n",
            "  RHS range        [1e+03, 3e+03]\n",
            "Presolve time: 0.01s\n",
            "Presolved: 6 rows, 9 columns, 18 nonzeros\n",
            "\n",
            "Iteration    Objective       Primal Inf.    Dual Inf.      Time\n",
            "       0    9.3000000e+04   3.500000e+03   0.000000e+00      0s\n",
            "       4    1.1000000e+05   0.000000e+00   0.000000e+00      0s\n",
            "\n",
            "Solved in 4 iterations and 0.02 seconds (0.00 work units)\n",
            "Optimal objective  1.100000000e+05\n",
            "x1 1500\n",
            "x2 500\n",
            "x3 0\n",
            "x4 500\n",
            "x5 0\n",
            "x6 1000\n",
            "x7 0\n",
            "x8 1500\n",
            "x9 0\n",
            "Obj: 110000\n"
          ]
        }
      ]
    },
    {
      "cell_type": "markdown",
      "source": [
        "### Talvez essas ferramentas não sejam tão mais vantajosas do que utilizar o Excel...\n",
        "\n",
        "O Excel é uma excelente ferramenta, mas depende muito da ação do usuário. A vantagem de ferramentas como o Gurobi é a escalabilidade, ou seja, ela se mantém eficiente mesmo diante de problemas de dimensões muito maiores.\n",
        "\n",
        "Exemplo: \n",
        "\n",
        "<a href='https://colab.research.google.com/drive/1h-5_y5uI12dTRPApUkwAt8YsmokNu6VG?usp=sharing'>Design de Rede de Suprimento</a>"
      ],
      "metadata": {
        "id": "oWnh2wVEX9hK"
      }
    }
  ],
  "metadata": {
    "kernelspec": {
      "display_name": "Python 3",
      "language": "python",
      "name": "python3"
    },
    "language_info": {
      "codemirror_mode": {
        "name": "ipython",
        "version": 3
      },
      "file_extension": ".py",
      "mimetype": "text/x-python",
      "name": "python",
      "nbconvert_exporter": "python",
      "pygments_lexer": "ipython3",
      "version": "3.7.3"
    },
    "colab": {
      "name": "Trabalho de LOG.ipynb",
      "provenance": []
    }
  },
  "nbformat": 4,
  "nbformat_minor": 0
}